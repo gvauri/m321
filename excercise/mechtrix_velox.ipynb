{
 "cells": [
  {
   "metadata": {},
   "cell_type": "markdown",
   "source": [
    "docker run -d \\\n",
    "  --name theship-mongo \\\n",
    "  -p 2021:27017 \\\n",
    "  -e MONGO_INITDB_ROOT_USERNAME=theship \\\n",
    "  -e MONGO_INITDB_ROOT_PASSWORD=theship1234 \\\n",
    "  mongo:4.4\n",
    "\n",
    "\n",
    "## auf mongodb verbinden\n",
    "docker exec -it theship-mongo mongo -u theship -p theship1234 --authenticationDatabase admin\n",
    "\n",
    "## user erstellen für theshipdb:\n",
    "use theshipdb\n",
    "db.createUser({\n",
    "user: \"theship\",\n",
    "pwd: \"theship1234\",\n",
    "roles: [\n",
    "{ role: \"readWrite\", db: \"theshipdb\" }\n",
    "]\n",
    "})"
   ],
   "id": "e0be8786b25f16c4"
  },
  {
   "cell_type": "code",
   "id": "initial_id",
   "metadata": {
    "collapsed": true,
    "ExecuteTime": {
     "end_time": "2025-09-17T15:29:53.005727Z",
     "start_time": "2025-09-17T15:29:52.796157Z"
    }
   },
   "source": [
    "import shield\n",
    "import travel as t\n",
    "import threading\n",
    "import grpc\n",
    "import energy_management"
   ],
   "outputs": [],
   "execution_count": 2
  },
  {
   "metadata": {},
   "cell_type": "code",
   "source": [
    "threading.Thread(target=shield.schild_ein).start()\n",
    "t.travel_position(150000, 150000)"
   ],
   "id": "3ec658fd95dbb03e",
   "outputs": [],
   "execution_count": null
  },
  {
   "metadata": {},
   "cell_type": "markdown",
   "source": [
    "## Analysator Alpha\n",
    "energy management in mining, cargo:\n",
    "\n",
    "        \"analyzer_alpha\": 1,\n",
    "        \"sensor_void_energy\": 1"
   ],
   "id": "11fa6ce6c562e287"
  },
  {
   "metadata": {},
   "cell_type": "code",
   "source": [
    "# while True:\n",
    "#     t.travel_position_and_mine(-21500,36700)\n",
    "#     t.travell_and_sell_all()\n"
   ],
   "id": "bf8b55478fc1a64a",
   "outputs": [],
   "execution_count": null
  },
  {
   "metadata": {},
   "cell_type": "code",
   "source": "energy_management.setze_energie({\"analyzer_alpha\": 1})",
   "id": "f28c89a071bc932e",
   "outputs": [],
   "execution_count": null
  },
  {
   "metadata": {},
   "cell_type": "code",
   "source": "t.travell_and_sell_all()\n",
   "id": "71cdaedda54ab0e2",
   "outputs": [],
   "execution_count": null
  },
  {
   "metadata": {},
   "cell_type": "markdown",
   "source": "## Analyzer Beta\n",
   "id": "2b508f5a28c64a4c"
  },
  {
   "metadata": {},
   "cell_type": "code",
   "source": "t.travel_position_and_mine(-21500,36700)",
   "id": "88002e95235bc944",
   "outputs": [],
   "execution_count": null
  },
  {
   "metadata": {
    "ExecuteTime": {
     "end_time": "2025-09-17T15:29:55.477248Z",
     "start_time": "2025-09-17T15:29:55.465742Z"
    }
   },
   "cell_type": "code",
   "source": "t.travel_position(-10000,20500)",
   "id": "a48d3fb6e6b09077",
   "outputs": [
    {
     "data": {
      "text/plain": [
       "<Response [200]>"
      ]
     },
     "execution_count": 3,
     "metadata": {},
     "output_type": "execute_result"
    }
   ],
   "execution_count": 3
  },
  {
   "metadata": {
    "ExecuteTime": {
     "end_time": "2025-09-17T15:30:47.810417Z",
     "start_time": "2025-09-17T15:30:47.782026Z"
    }
   },
   "cell_type": "code",
   "source": [
    "energy_management.setze_energie({\n",
    "        \"laser\": 0,\n",
    "        \"cargo_bot\": 0,\n",
    "        \"laser_amplifier\": 0,\n",
    "        \"sensor_plasma_radiation\": 0,\n",
    "        \"thruster_back\": 0,\n",
    "        \"thruster_front\": 0,\n",
    "        \"thruster_front_left\": 0,\n",
    "        \"thruster_front_right\": 0,\n",
    "        \"thruster_bottom_left\": 0,\n",
    "        \"thruster_bottom_right\": 0,\n",
    "        \"scanner\": 0,\n",
    "        \"sensor_atomic_field\": 0,\n",
    "        \"matter_stabilizer\": 0,\n",
    "        \"nuclear_reactor\": 1,\n",
    "        \"sensor_void_energy\": 0\n",
    "    })"
   ],
   "id": "b565e455762806e8",
   "outputs": [],
   "execution_count": 5
  },
  {
   "metadata": {
    "ExecuteTime": {
     "end_time": "2025-09-17T15:31:13.557729Z",
     "start_time": "2025-09-17T15:31:13.515140Z"
    }
   },
   "cell_type": "code",
   "source": [
    "energy_management.setze_energie({\n",
    "        \"laser\": 0,\n",
    "        \"cargo_bot\": 0,\n",
    "        \"laser_amplifier\": 0,\n",
    "        \"sensor_plasma_radiation\": 0,\n",
    "        \"thruster_back\": 0,\n",
    "        \"thruster_front\": 0,\n",
    "        \"thruster_front_left\": 0,\n",
    "        \"thruster_front_right\": 0,\n",
    "        \"thruster_bottom_left\": 0,\n",
    "        \"thruster_bottom_right\": 0,\n",
    "        \"scanner\": 0,\n",
    "        \"sensor_atomic_field\": 0,\n",
    "        \"matter_stabilizer\": 0,\n",
    "        \"nuclear_reactor\": 1,\n",
    "        \"analyzer_beta\": 1,\n",
    "        \"sensor_void_energy\": 0\n",
    "    })"
   ],
   "id": "e37ea24204448260",
   "outputs": [],
   "execution_count": 6
  },
  {
   "metadata": {},
   "cell_type": "markdown",
   "source": [
    "## Analyzer Gamma\n",
    "pip install boto3"
   ],
   "id": "9f00f0aab89e0fb8"
  },
  {
   "metadata": {},
   "cell_type": "markdown",
   "source": [
    "### Muss installiert werden damit das File abgelegt werden kann\n",
    "curl -O https://dl.min.io/server/minio/release/linux-amd64/minio\n",
    "\n",
    "chmod +x minio\n",
    "\n",
    "sudo mv minio /usr/local/bin/\n",
    "\n",
    "export MINIO_ROOT_USER=theship\n",
    "\n",
    "export MINIO_ROOT_PASSWORD=theship1234\n",
    "\n",
    "minio server --address :2016 ~/minio_data"
   ],
   "id": "4c8fab00cf7eeee1"
  },
  {
   "metadata": {
    "ExecuteTime": {
     "end_time": "2025-09-17T16:07:29.289793Z",
     "start_time": "2025-09-17T16:05:26.914096Z"
    }
   },
   "cell_type": "code",
   "source": [
    "energy_management.fliegen_ein()\n",
    "t.travel_position_until_recive(-95375,-90773)\n",
    "energy_management.setze_energie({\n",
    "        \"laser\": 0,\n",
    "        \"cargo_bot\": 0,\n",
    "        \"laser_amplifier\": 0,\n",
    "        \"sensor_plasma_radiation\": 0,\n",
    "        \"thruster_back\": 0,\n",
    "        \"thruster_front\": 0,\n",
    "        \"thruster_front_left\": 0,\n",
    "        \"thruster_front_right\": 0,\n",
    "        \"thruster_bottom_left\": 0,\n",
    "        \"thruster_bottom_right\": 0,\n",
    "        \"scanner\": 0,\n",
    "        \"sensor_atomic_field\": 0,\n",
    "        \"matter_stabilizer\": 0,\n",
    "        \"nuclear_reactor\": 1,\n",
    "        \"analyzer_gamma\": 1,\n",
    "        \"sensor_antimatter\": 1\n",
    "    })"
   ],
   "id": "f8a42fd5d256fd35",
   "outputs": [
    {
     "name": "stdout",
     "output_type": "stream",
     "text": [
      "coords erreicht x:-95375, y:-90773\n"
     ]
    }
   ],
   "execution_count": 8
  }
 ],
 "metadata": {
  "kernelspec": {
   "display_name": "Python 3",
   "language": "python",
   "name": "python3"
  },
  "language_info": {
   "codemirror_mode": {
    "name": "ipython",
    "version": 2
   },
   "file_extension": ".py",
   "mimetype": "text/x-python",
   "name": "python",
   "nbconvert_exporter": "python",
   "pygments_lexer": "ipython2",
   "version": "2.7.6"
  }
 },
 "nbformat": 4,
 "nbformat_minor": 5
}
