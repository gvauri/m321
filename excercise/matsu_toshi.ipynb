{
 "cells": [
  {
   "cell_type": "code",
   "id": "initial_id",
   "metadata": {
    "collapsed": true
   },
   "source": [
    "import travel as t\n",
    "import requests\n",
    "import xmlrpc.client\n",
    "import base64\n",
    "import websocket\n",
    "import json\n",
    "import socket\n",
    "import struct\n",
    "import scanner"
   ],
   "outputs": [],
   "execution_count": null
  },
  {
   "metadata": {},
   "cell_type": "code",
   "source": [
    "t.travel_position_until_recive(-6792, 6032)\n",
    "\n",
    "payload = {}\n",
    "response = requests.post('http://10.255.255.254:2029/receive', data=payload)\n",
    "print(response.json())"
   ],
   "id": "19e538d0671e4c01",
   "outputs": [],
   "execution_count": null
  },
  {
   "metadata": {},
   "cell_type": "code",
   "source": [
    "t.travel_station_wait_until_recive(\"Azura Station\")\n",
    "\n",
    "msg = response.json()[\"received_messages\"][0]['msg']\n",
    "payload = {\n",
    "    \"sending_station\": \"Zurro Station\",\n",
    "    \"base64data\": msg\n",
    "}\n",
    "print(payload)\n",
    "response = requests.post('http://10.255.255.254:2030/put_message', json=payload)\n",
    "print(response.json())\n"
   ],
   "id": "3e1cd295e43f3f6c",
   "outputs": [],
   "execution_count": null
  },
  {
   "metadata": {},
   "cell_type": "code",
   "source": [
    "t.travel_position_until_recive(-20000, 38000)\n",
    "server = xmlrpc.client.ServerProxy(\"http://10.255.255.254:2024/RPC2\", allow_none=True)\n",
    "response = server.receive()\n",
    "print(response[0])"
   ],
   "id": "a58bdfcea427809c",
   "outputs": [],
   "execution_count": null
  },
  {
   "metadata": {},
   "cell_type": "code",
   "source": [
    "t.travel_station_wait_until_recive(\"Azura Station\")\n",
    "\n",
    "msg = base64.b64encode(response[0][1].data).decode('utf-8')\n",
    "payload = {\n",
    "    \"sending_station\": \"Artemis Station\",\n",
    "    \"base64data\": msg\n",
    "}\n",
    "print(payload)\n",
    "response = requests.post('http://10.255.255.254:2030/put_message', json=payload)\n",
    "print(response.json())\n"
   ],
   "id": "83e4fd4175b4c3a7",
   "outputs": [],
   "execution_count": null
  },
  {
   "metadata": {},
   "cell_type": "code",
   "source": [
    "def on_open(ws):\n",
    "    print(\"connected\")\n",
    "    data = {\n",
    "        \"source\": \"Artemis Station\",\n",
    "        \"msg\": [1, 2, 3, 4]\n",
    "    }\n",
    "    print(\"client -> server:\", json.dumps(data))\n",
    "    ws.send(json.dumps(data))"
   ],
   "id": "2b626520bdc82575",
   "outputs": [],
   "execution_count": null
  },
  {
   "metadata": {},
   "cell_type": "code",
   "source": [
    "received_message = None\n",
    "def on_message(ws, message):\n",
    "    global received_message\n",
    "    print(\"lkasdj\")\n",
    "    print(\"server <- client:\", message)\n",
    "    print(message)\n",
    "    received_message = message\n",
    "    ws.close()\n"
   ],
   "id": "125fa617d968466a",
   "outputs": [],
   "execution_count": null
  },
  {
   "metadata": {},
   "cell_type": "code",
   "source": [
    "t.travel_position_until_recive(-82599, 89973)\n",
    "def on_error(ws, error):\n",
    "    print(\"Fehler:\", error)\n",
    "ws = websocket.WebSocketApp(\n",
    "    \"ws://10.255.255.254:2026/api\",\n",
    "    on_open=on_open,\n",
    "    on_message=on_message,\n",
    "    on_error=on_error,\n",
    ")\n",
    "ws.run_forever()"
   ],
   "id": "4eb8dc47ec0f3bf3",
   "outputs": [],
   "execution_count": null
  },
  {
   "metadata": {},
   "cell_type": "code",
   "source": [
    "msg = base64.b64encode(bytes(json.loads(received_message)[\"msg\"])).decode('utf-8')\n",
    "print(msg)"
   ],
   "id": "b739deddcbc7f88c",
   "outputs": [],
   "execution_count": null
  },
  {
   "metadata": {},
   "cell_type": "code",
   "source": [
    "t.travel_station_wait_until_recive(\"Azura Station\")\n",
    "\n",
    "payload = {\n",
    "    \"sending_station\": \"Elyse Terminal\",\n",
    "    \"base64data\": msg\n",
    "}\n",
    "print(payload)\n",
    "response = requests.post('http://10.255.255.254:2030/put_message', json=payload)\n",
    "print(response.json())"
   ],
   "id": "7ff819999c503992",
   "outputs": [],
   "execution_count": null
  },
  {
   "metadata": {},
   "cell_type": "code",
   "source": [
    "t.travel_position_until_recive(-500, 500)\n",
    "\n",
    "response = requests.post(\"http://10.255.255.254:2027/receive\")\n",
    "payload = {\n",
    "    \"sending_station\": \"Core Station\",\n",
    "    \"base64data\": response.json()[\"received_messages\"][0]['data']\n",
    "}\n",
    "print(payload)\n",
    "response = requests.post('http://10.255.255.254:2030/put_message', json=payload)\n"
   ],
   "id": "a09dd3e7ead231d8",
   "outputs": [],
   "execution_count": null
  },
  {
   "metadata": {},
   "cell_type": "code",
   "source": [
    "# t.travel_position_until_recive(-500, 500)\n",
    "#\n",
    "# while True:\n",
    "#     response = requests.post(\"http://10.255.255.254:2027/receive\")\n",
    "#     print(response.json())\n",
    "#     for message in response.json()[\"received_messages\"]:\n",
    "#         payload = {\n",
    "#             \"sending_station\": \"Core Station\",\n",
    "#             \"base64data\": message['data']\n",
    "#         }\n",
    "#         response = requests.post('http://10.255.255.254:2030/put_message', json=payload)\n",
    "#     response = requests.get(\"http://10.255.255.254:2030/messages_for_other_stations\")\n",
    "#     print(response.json())\n",
    "#     for message in response.json()[\"received_messages\"]:\n",
    "#         payload = {\n",
    "#             \"source\": \"Azura Station\",\n",
    "#             \"message\": message['base64data']\n",
    "#         }\n",
    "#         response = requests.post('http://10.255.255.254:2027/send', json=payload)"
   ],
   "id": "9d6c3f20a141a27c",
   "outputs": [],
   "execution_count": null
  },
  {
   "metadata": {},
   "cell_type": "markdown",
   "source": [
    "Verbindungsorientiert:\n",
    "Bevor Daten übertragen werden, wird eine Verbindung zwischen Sender und Empfänger aufgebaut (Three-Way Handshake). Diese Verbindung bleibt während der gesamten Sitzung bestehen.\n",
    "\n",
    "Zuverlässigkeit:\n",
    "TCP stellt sicher, dass alle gesendeten Daten auch tatsächlich beim Empfänger ankommen und in der richtigen Reihenfolge. Wenn Datenpakete verloren gehen oder beschädigt werden, fordert TCP eine erneute Übertragung an."
   ],
   "id": "427ddcdc20a1d82e"
  },
  {
   "metadata": {},
   "cell_type": "code",
   "source": [
    "t.travel_position_until_recive(-11000, -11000)\n",
    "\n",
    "\n",
    "def send_msg(ip, port, src, message):\n",
    "    src_bytes = src.encode('utf-8')\n",
    "    msg_bytes = message.encode('utf-8')\n",
    "\n",
    "    total_length = 1 + len(src_bytes) + len(msg_bytes)\n",
    "\n",
    "    payload = struct.pack('>H', total_length)\n",
    "    payload += struct.pack('B', len(src_bytes))\n",
    "    payload += src_bytes\n",
    "    payload += msg_bytes\n",
    "\n",
    "    with socket.socket(socket.AF_INET, socket.SOCK_STREAM) as s:\n",
    "        s.connect((ip, port))\n",
    "        s.sendall(payload)\n",
    "\n",
    "        data = s.recv(4096)\n",
    "        return data\n",
    "\n",
    "response = send_msg(\"10.255.255.254\", 2031, \"src\", \"test\")\n",
    "print(response)"
   ],
   "id": "f18b8761e81d791a",
   "outputs": [],
   "execution_count": null
  },
  {
   "metadata": {},
   "cell_type": "code",
   "source": [
    "total_len = struct.unpack('>H', response[0:2])[0]\n",
    "print(total_len)\n",
    "src_len = response[2]\n",
    "print(src_len)\n",
    "src = response[3:3+src_len].decode('utf-8')\n",
    "print(src)\n",
    "msg = base64.b64encode(bytes(response[3+src_len:])).decode('utf-8')\n",
    "print(msg)"
   ],
   "id": "b1f49771f4d8c5f1",
   "outputs": [],
   "execution_count": null
  },
  {
   "metadata": {},
   "cell_type": "code",
   "source": [
    "t.travel_station_wait_until_recive(\"Azura Station\")\n",
    "\n",
    "payload = {\n",
    "    \"sending_station\": \"Aurora Station\",\n",
    "    \"base64data\": msg\n",
    "}\n",
    "print(payload)\n",
    "response = requests.post('http://10.255.255.254:2030/put_message', json=payload)\n",
    "print(response.json())"
   ],
   "id": "8bde8bdcc9cc67ad",
   "outputs": [],
   "execution_count": null
  },
  {
   "metadata": {},
   "cell_type": "markdown",
   "source": "# Shady Shack",
   "id": "e2a2fb1bfbf91875"
  },
  {
   "metadata": {},
   "cell_type": "code",
   "source": [
    "def handle_station(station):\n",
    "    if station[\"name\"] == \"Shady Shack\":\n",
    "        print(\"travel to: \" + str(station[\"pos\"][\"x\"]), str(station[\"pos\"][\"y\"]))\n",
    "        t.travel_position(station[\"pos\"][\"x\"], station[\"pos\"][\"y\"])\n",
    "    elif station[\"name\"] == \"Captain Morris\":\n",
    "        print(\"travel to: \" + str(station[\"pos\"][\"x\"]), str(station[\"pos\"][\"y\"]))\n",
    "        t.travel_position(int(station[\"pos\"][\"x\"]), int(station[\"pos\"][\"y\"]))\n",
    "scanner.scanner(handle_station)"
   ],
   "id": "c553f0302cda0f28",
   "outputs": [],
   "execution_count": null
  },
  {
   "metadata": {},
   "cell_type": "code",
   "source": [
    "t.travel_position_until_recive(-20677.6289017, 22616.2800545)\n",
    "t.travel_position(-26665.2164109, 29037.1864049)"
   ],
   "id": "6d44ba8aea5dcb4",
   "outputs": [],
   "execution_count": null
  },
  {
   "metadata": {},
   "cell_type": "code",
   "source": "",
   "id": "2b10e625ddf7d6ef",
   "outputs": [],
   "execution_count": null
  },
  {
   "metadata": {},
   "cell_type": "code",
   "source": [
    "# Zuerst idle stellen\n",
    "\n",
    "payload = {\"thrust_percent\": 100}\n",
    "requests.put(\"http://10.255.255.254:2003/thruster\", json=payload)\n",
    "def handle_station(station):\n",
    "    if station[\"name\"] == \"Shady Shack\":\n",
    "        print(\"travel to: \" + str(station[\"pos\"][\"x\"]), str(station[\"pos\"][\"y\"]))\n",
    "        t.travel_position(station[\"pos\"][\"x\"], station[\"pos\"][\"y\"])\n",
    "scanner.scanner(handle_station)"
   ],
   "id": "ca303fbf3c015ac5",
   "outputs": [],
   "execution_count": null
  },
  {
   "metadata": {},
   "cell_type": "code",
   "source": "t.travel_position(-60600.6469885, -35531.0841943)",
   "id": "24377610257dec6b",
   "outputs": [],
   "execution_count": null
  },
  {
   "metadata": {},
   "cell_type": "code",
   "source": "",
   "id": "de92e6a3c5908fa",
   "outputs": [],
   "execution_count": null
  },
  {
   "metadata": {},
   "cell_type": "markdown",
   "source": "",
   "id": "9311092e83299ac7"
  }
 ],
 "metadata": {
  "kernelspec": {
   "display_name": "Python 3 (ipykernel)",
   "language": "python",
   "name": "python3"
  },
  "language_info": {
   "codemirror_mode": {
    "name": "ipython",
    "version": 2
   },
   "file_extension": ".py",
   "mimetype": "text/x-python",
   "name": "python",
   "nbconvert_exporter": "python",
   "pygments_lexer": "ipython2",
   "version": "2.7.6"
  }
 },
 "nbformat": 4,
 "nbformat_minor": 5
}
