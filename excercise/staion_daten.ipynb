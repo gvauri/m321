{
 "cells": [
  {
   "cell_type": "code",
   "id": "initial_id",
   "metadata": {
    "collapsed": true,
    "ExecuteTime": {
     "end_time": "2025-08-25T08:48:58.117403Z",
     "start_time": "2025-08-25T08:48:58.039350Z"
    }
   },
   "source": [
    "import travel as t\n",
    "import requests\n",
    "import xmlrpc.client\n",
    "import base64\n",
    "import websocket\n",
    "import json"
   ],
   "outputs": [],
   "execution_count": 2
  },
  {
   "metadata": {
    "ExecuteTime": {
     "start_time": "2025-08-25T08:48:44.867683Z"
    }
   },
   "cell_type": "code",
   "source": [
    "t.travel_position_until_recive(-6792, 6032)\n",
    "\n",
    "payload = {}\n",
    "response = requests.post('http://10.255.255.254:2029/receive', data=payload)\n",
    "print(response.json())"
   ],
   "id": "19e538d0671e4c01",
   "outputs": [],
   "execution_count": null
  },
  {
   "metadata": {
    "ExecuteTime": {
     "end_time": "2025-08-25T08:48:46.183001100Z",
     "start_time": "2025-08-25T07:02:32.775780Z"
    }
   },
   "cell_type": "code",
   "source": [
    "t.travel_station_wait_until_recive(\"Azura Station\")\n",
    "\n",
    "msg = response.json()[\"received_messages\"][0]['msg']\n",
    "payload = {\n",
    "    \"sending_station\": \"Zurro Station\",\n",
    "    \"base64data\": msg\n",
    "}\n",
    "print(payload)\n",
    "response = requests.post('http://10.255.255.254:2030/put_message', json=payload)\n",
    "print(response.json())\n"
   ],
   "id": "3e1cd295e43f3f6c",
   "outputs": [
    {
     "name": "stdout",
     "output_type": "stream",
     "text": [
      "Azura Station\n",
      "{'sending_station': 'Zurro Station', 'base64data': '0aCKiMfP2dnLzc+IkIqI0fbEivaI2cXf2MnP9oiQivaI8N/Y2MWK+d7L3sPFxPaIhvbEivaIzs/Z3sPEy97DxcT2iJCK9ojr0N/Yy4r53svew8XE9oiG9sSK9ojOy97L9oiQivaI7MXY2cnC38TN2c7L3s/EioLt2N/a2s+Km5OYhJuckoSbmpuEmJqD9oiG9sSK9oje2faIkIr2iJuSm56fmJyZ9oj2xNf2xIiGoIqI2cPNxMve39jPiJCKiJ3InsmenpOSkpPJmsiZmZ3MnJPOyZOdy8+YnpydnszIyZyamJyZkpOTmJiTzs+YzsvJmZ/JkszLnsvOnZqcmoig16A='}\n",
      "{'kind': 'success'}\n"
     ]
    }
   ],
   "execution_count": 4
  },
  {
   "metadata": {
    "ExecuteTime": {
     "end_time": "2025-08-25T08:48:46.185240117Z",
     "start_time": "2025-08-25T07:17:58.906354Z"
    }
   },
   "cell_type": "code",
   "source": [
    "t.travel_position_until_recive(-20000, 38000)\n",
    "server = xmlrpc.client.ServerProxy(\"http://10.255.255.254:2024/RPC2\", allow_none=True)\n",
    "response = server.receive()\n",
    "print(response[0])"
   ],
   "id": "a58bdfcea427809c",
   "outputs": [
    {
     "name": "stdout",
     "output_type": "stream",
     "text": [
      "coords erreicht x:-20000, y:38000\n",
      "['Azura Station', <xmlrpc.client.Binary object at 0x7f3ca3bbb110>]\n"
     ]
    }
   ],
   "execution_count": 22
  },
  {
   "metadata": {
    "ExecuteTime": {
     "end_time": "2025-08-25T08:48:46.192642521Z",
     "start_time": "2025-08-25T08:42:18.790185Z"
    }
   },
   "cell_type": "code",
   "source": [
    "t.travel_station_wait_until_recive(\"Azura Station\")\n",
    "\n",
    "msg = base64.b64encode(response[0][1].data).decode('utf-8')\n",
    "payload = {\n",
    "    \"sending_station\": \"Artemis Station\",\n",
    "    \"base64data\": msg\n",
    "}\n",
    "print(payload)\n",
    "response = requests.post('http://10.255.255.254:2030/put_message', json=payload)\n",
    "print(response.json())\n"
   ],
   "id": "83e4fd4175b4c3a7",
   "outputs": [
    {
     "ename": "KeyboardInterrupt",
     "evalue": "",
     "output_type": "error",
     "traceback": [
      "\u001B[31m---------------------------------------------------------------------------\u001B[39m",
      "\u001B[31mKeyboardInterrupt\u001B[39m                         Traceback (most recent call last)",
      "\u001B[36mCell\u001B[39m\u001B[36m \u001B[39m\u001B[32mIn[4]\u001B[39m\u001B[32m, line 1\u001B[39m\n\u001B[32m----> \u001B[39m\u001B[32m1\u001B[39m \u001B[43mt\u001B[49m\u001B[43m.\u001B[49m\u001B[43mtravel_station_wait_until_recive\u001B[49m\u001B[43m(\u001B[49m\u001B[33;43m\"\u001B[39;49m\u001B[33;43mAzura Station\u001B[39;49m\u001B[33;43m\"\u001B[39;49m\u001B[43m)\u001B[49m\n\u001B[32m      3\u001B[39m msg = base64.b64encode(response[\u001B[32m0\u001B[39m][\u001B[32m1\u001B[39m].data).decode(\u001B[33m'\u001B[39m\u001B[33mutf-8\u001B[39m\u001B[33m'\u001B[39m)\n\u001B[32m      4\u001B[39m payload = {\n\u001B[32m      5\u001B[39m     \u001B[33m\"\u001B[39m\u001B[33msending_station\u001B[39m\u001B[33m\"\u001B[39m: \u001B[33m\"\u001B[39m\u001B[33mArtemis Station\u001B[39m\u001B[33m\"\u001B[39m,\n\u001B[32m      6\u001B[39m     \u001B[33m\"\u001B[39m\u001B[33mbase64data\u001B[39m\u001B[33m\"\u001B[39m: msg\n\u001B[32m      7\u001B[39m }\n",
      "\u001B[36mFile \u001B[39m\u001B[32m~/Documents/git/m321/travel.py:36\u001B[39m, in \u001B[36mtravel_station_wait_until_recive\u001B[39m\u001B[34m(station)\u001B[39m\n\u001B[32m     34\u001B[39m travel_station(station)\n\u001B[32m     35\u001B[39m \u001B[38;5;28;01mwhile\u001B[39;00m \u001B[38;5;129;01mnot\u001B[39;00m c.is_ship_at_station(station):\n\u001B[32m---> \u001B[39m\u001B[32m36\u001B[39m     \u001B[43mtime\u001B[49m\u001B[43m.\u001B[49m\u001B[43msleep\u001B[49m\u001B[43m(\u001B[49m\u001B[32;43m1\u001B[39;49m\u001B[43m)\u001B[49m\n\u001B[32m     37\u001B[39m \u001B[38;5;28mprint\u001B[39m(station)\n",
      "\u001B[31mKeyboardInterrupt\u001B[39m: "
     ]
    }
   ],
   "execution_count": 4
  },
  {
   "metadata": {
    "ExecuteTime": {
     "end_time": "2025-08-25T08:49:04.875845Z",
     "start_time": "2025-08-25T08:49:04.871779Z"
    }
   },
   "cell_type": "code",
   "source": [
    "def on_open(ws):\n",
    "    print(\"connected\")\n",
    "    data = {\n",
    "        \"source\": \"Artemis Station\",\n",
    "        \"msg\": [1, 2, 3, 4]\n",
    "    }\n",
    "    print(\"client -> server:\", json.dumps(data))\n",
    "    ws.send(json.dumps(data))"
   ],
   "id": "2b626520bdc82575",
   "outputs": [],
   "execution_count": 3
  },
  {
   "metadata": {
    "ExecuteTime": {
     "end_time": "2025-08-25T08:54:23.483918Z",
     "start_time": "2025-08-25T08:54:23.480456Z"
    }
   },
   "cell_type": "code",
   "source": [
    "received_message = None\n",
    "def on_message(ws, message):\n",
    "    global received_message\n",
    "    print(\"lkasdj\")\n",
    "    print(\"server <- client:\", message)\n",
    "    print(message)\n",
    "    received_message = message\n",
    "    ws.close()\n"
   ],
   "id": "125fa617d968466a",
   "outputs": [],
   "execution_count": 38
  },
  {
   "metadata": {
    "ExecuteTime": {
     "end_time": "2025-08-25T08:54:55.651823Z",
     "start_time": "2025-08-25T08:54:55.618136Z"
    }
   },
   "cell_type": "code",
   "source": [
    "t.travel_position_until_recive(-82599, 89973)\n",
    "def on_error(ws, error):\n",
    "    print(\"Fehler:\", error)\n",
    "ws = websocket.WebSocketApp(\n",
    "    \"ws://10.255.255.254:2026/api\",\n",
    "    on_open=on_open,\n",
    "    on_message=on_message,\n",
    "    on_error=on_error,\n",
    ")\n",
    "ws.run_forever()"
   ],
   "id": "4eb8dc47ec0f3bf3",
   "outputs": [
    {
     "name": "stderr",
     "output_type": "stream",
     "text": [
      "Websocket connected\n"
     ]
    },
    {
     "name": "stdout",
     "output_type": "stream",
     "text": [
      "coords erreicht x:-82599, y:89973\n",
      "connected\n",
      "client -> server: {\"source\": \"Artemis Station\", \"msg\": [1, 2, 3, 4]}\n",
      "lkasdj\n",
      "server <- client: {\"destination\": \"Azura Station\", \"msg\": [209, 160, 138, 136, 199, 207, 217, 217, 203, 205, 207, 136, 144, 138, 136, 209, 246, 196, 138, 246, 136, 217, 197, 223, 216, 201, 207, 246, 136, 144, 138, 246, 136, 239, 198, 211, 217, 207, 138, 254, 207, 216, 199, 195, 196, 203, 198, 246, 136, 134, 246, 196, 138, 246, 136, 206, 207, 217, 222, 195, 196, 203, 222, 195, 197, 196, 246, 136, 144, 138, 246, 136, 235, 208, 223, 216, 203, 138, 249, 222, 203, 222, 195, 197, 196, 246, 136, 134, 246, 196, 138, 246, 136, 206, 203, 222, 203, 246, 136, 144, 138, 246, 136, 236, 197, 216, 217, 201, 194, 223, 196, 205, 217, 206, 203, 222, 207, 196, 138, 130, 237, 216, 223, 218, 218, 207, 138, 155, 147, 152, 132, 155, 156, 146, 132, 155, 154, 155, 132, 152, 154, 131, 246, 136, 134, 246, 196, 138, 246, 136, 222, 217, 246, 136, 144, 138, 246, 136, 155, 146, 153, 155, 153, 157, 147, 147, 246, 136, 246, 196, 215, 246, 196, 136, 134, 160, 138, 136, 217, 195, 205, 196, 203, 222, 223, 216, 207, 136, 144, 138, 136, 207, 158, 155, 159, 158, 204, 200, 158, 155, 147, 156, 146, 147, 154, 158, 156, 153, 147, 157, 147, 207, 159, 156, 147, 155, 206, 207, 157, 206, 154, 200, 154, 146, 159, 206, 206, 200, 153, 154, 158, 156, 154, 155, 207, 147, 207, 200, 206, 158, 200, 158, 158, 201, 203, 158, 153, 204, 147, 159, 147, 207, 154, 136, 160, 215, 160]}\n",
      "{\"destination\": \"Azura Station\", \"msg\": [209, 160, 138, 136, 199, 207, 217, 217, 203, 205, 207, 136, 144, 138, 136, 209, 246, 196, 138, 246, 136, 217, 197, 223, 216, 201, 207, 246, 136, 144, 138, 246, 136, 239, 198, 211, 217, 207, 138, 254, 207, 216, 199, 195, 196, 203, 198, 246, 136, 134, 246, 196, 138, 246, 136, 206, 207, 217, 222, 195, 196, 203, 222, 195, 197, 196, 246, 136, 144, 138, 246, 136, 235, 208, 223, 216, 203, 138, 249, 222, 203, 222, 195, 197, 196, 246, 136, 134, 246, 196, 138, 246, 136, 206, 203, 222, 203, 246, 136, 144, 138, 246, 136, 236, 197, 216, 217, 201, 194, 223, 196, 205, 217, 206, 203, 222, 207, 196, 138, 130, 237, 216, 223, 218, 218, 207, 138, 155, 147, 152, 132, 155, 156, 146, 132, 155, 154, 155, 132, 152, 154, 131, 246, 136, 134, 246, 196, 138, 246, 136, 222, 217, 246, 136, 144, 138, 246, 136, 155, 146, 153, 155, 153, 157, 147, 147, 246, 136, 246, 196, 215, 246, 196, 136, 134, 160, 138, 136, 217, 195, 205, 196, 203, 222, 223, 216, 207, 136, 144, 138, 136, 207, 158, 155, 159, 158, 204, 200, 158, 155, 147, 156, 146, 147, 154, 158, 156, 153, 147, 157, 147, 207, 159, 156, 147, 155, 206, 207, 157, 206, 154, 200, 154, 146, 159, 206, 206, 200, 153, 154, 158, 156, 154, 155, 207, 147, 207, 200, 206, 158, 200, 158, 158, 201, 203, 158, 153, 204, 147, 159, 147, 207, 154, 136, 160, 215, 160]}\n"
     ]
    },
    {
     "data": {
      "text/plain": [
       "False"
      ]
     },
     "execution_count": 44,
     "metadata": {},
     "output_type": "execute_result"
    }
   ],
   "execution_count": 44
  },
  {
   "metadata": {
    "ExecuteTime": {
     "end_time": "2025-08-25T08:58:25.726771Z",
     "start_time": "2025-08-25T08:58:25.721108Z"
    }
   },
   "cell_type": "code",
   "source": [
    "msg = base64.b64encode(bytes(json.loads(received_message)[\"msg\"])).decode('utf-8')\n",
    "print(msg)"
   ],
   "id": "b739deddcbc7f88c",
   "outputs": [
    {
     "name": "stdout",
     "output_type": "stream",
     "text": [
      "0aCKiMfP2dnLzc+IkIqI0fbEivaI2cXf2MnP9oiQivaI78bT2c+K/s/Yx8PEy8b2iIb2xIr2iM7P2d7DxMvew8XE9oiQivaI69Df2MuK+d7L3sPFxPaIhvbEivaIzsvey/aIkIr2iOzF2NnJwt/EzdnOy97PxIqC7djf2trPipuTmISbnJKEm5qbhJiag/aIhvbEivaI3tn2iJCK9oibkpmbmZ2Tk/aI9sTX9sSIhqCKiNnDzcTL3t/Yz4iQiojPnpufnszInpuTnJKTmp6cmZOdk8+fnJObzs+dzprImpKfzs7ImZqenJqbz5PPyM6eyJ6eycuemcyTn5PPmoig16A=\n"
     ]
    }
   ],
   "execution_count": 51
  },
  {
   "metadata": {
    "ExecuteTime": {
     "end_time": "2025-08-25T09:01:40.916915Z",
     "start_time": "2025-08-25T09:01:39.869667Z"
    }
   },
   "cell_type": "code",
   "source": [
    "t.travel_station_wait_until_recive(\"Azura Station\")\n",
    "\n",
    "payload = {\n",
    "    \"sending_station\": \"Elyse Terminal\",\n",
    "    \"base64data\": msg\n",
    "}\n",
    "print(payload)\n",
    "response = requests.post('http://10.255.255.254:2030/put_message', json=payload)\n",
    "print(response.json())"
   ],
   "id": "7ff819999c503992",
   "outputs": [
    {
     "name": "stdout",
     "output_type": "stream",
     "text": [
      "Azura Station\n",
      "{'sending_station': 'Elyse Terminal', 'base64data': '0aCKiMfP2dnLzc+IkIqI0fbEivaI2cXf2MnP9oiQivaI78bT2c+K/s/Yx8PEy8b2iIb2xIr2iM7P2d7DxMvew8XE9oiQivaI69Df2MuK+d7L3sPFxPaIhvbEivaIzsvey/aIkIr2iOzF2NnJwt/EzdnOy97PxIqC7djf2trPipuTmISbnJKEm5qbhJiag/aIhvbEivaI3tn2iJCK9oibkpmbmZ2Tk/aI9sTX9sSIhqCKiNnDzcTL3t/Yz4iQiojPnpufnszInpuTnJKTmp6cmZOdk8+fnJObzs+dzprImpKfzs7ImZqenJqbz5PPyM6eyJ6eycuemcyTn5PPmoig16A='}\n",
      "{'kind': 'success'}\n"
     ]
    }
   ],
   "execution_count": 53
  },
  {
   "metadata": {},
   "cell_type": "code",
   "outputs": [],
   "execution_count": null,
   "source": "",
   "id": "a09dd3e7ead231d8"
  }
 ],
 "metadata": {
  "kernelspec": {
   "display_name": "Python 3 (ipykernel)",
   "language": "python",
   "name": "python3"
  },
  "language_info": {
   "codemirror_mode": {
    "name": "ipython",
    "version": 2
   },
   "file_extension": ".py",
   "mimetype": "text/x-python",
   "name": "python",
   "nbconvert_exporter": "python",
   "pygments_lexer": "ipython2",
   "version": "2.7.6"
  }
 },
 "nbformat": 4,
 "nbformat_minor": 5
}
