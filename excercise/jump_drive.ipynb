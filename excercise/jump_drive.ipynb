{
 "cells": [
  {
   "cell_type": "code",
   "id": "initial_id",
   "metadata": {
    "collapsed": true,
    "ExecuteTime": {
     "end_time": "2025-09-05T14:21:54.032645Z",
     "start_time": "2025-09-05T14:21:54.021419Z"
    }
   },
   "source": [
    "import travel as t\n",
    "import requests"
   ],
   "outputs": [],
   "execution_count": 5
  },
  {
   "metadata": {
    "ExecuteTime": {
     "end_time": "2025-09-05T14:34:56.206998Z",
     "start_time": "2025-09-05T14:34:56.144060Z"
    }
   },
   "cell_type": "code",
   "source": [
    "requests.put(\"http://10.255.255.254:2033/limits\", json={\n",
    "    \"scanner\": 1,\n",
    "    \"laser\": 1,\n",
    "    \"cargo_bot\": 1,\n",
    "    \"jumpdrive\": 0\n",
    "})\n",
    "requests.get(\"http://10.255.255.254:2032/limits\").json()"
   ],
   "id": "c88eb72baf023feb",
   "outputs": [
    {
     "data": {
      "text/plain": [
       "{'thruster_bottom_right': 1.0,\n",
       " 'matter_stabilizer': 0.0,\n",
       " 'sensor_atomic_field': 0.0,\n",
       " 'thruster_front_left': 1.0,\n",
       " 'sensor_void_energy': 0.0,\n",
       " 'sensor_antimatter': 0.0,\n",
       " 'shield_generator': 0.0,\n",
       " 'thruster_front_right': 1.0,\n",
       " 'cargo_bot': 1.0,\n",
       " 'scanner': 1.0,\n",
       " 'subspace_tachyon_scanner': 0.0,\n",
       " 'nuclear_reactor': 0.0,\n",
       " 'laser': 1.0,\n",
       " 'jumpdrive': 0.0,\n",
       " 'thruster_back': 1.0,\n",
       " 'engine_overdrive': 0.0,\n",
       " 'thruster_front': 1.0,\n",
       " 'thruster_bottom_left': 1.0}"
      ]
     },
     "execution_count": 21,
     "metadata": {},
     "output_type": "execute_result"
    }
   ],
   "execution_count": 21
  },
  {
   "metadata": {
    "ExecuteTime": {
     "end_time": "2025-09-05T14:27:45.286301Z",
     "start_time": "2025-09-05T14:27:26.984722Z"
    }
   },
   "cell_type": "code",
   "source": "t.travel_position_until_recive(150000, 150000)",
   "id": "8d12e9e9d4c49782",
   "outputs": [
    {
     "ename": "KeyboardInterrupt",
     "evalue": "",
     "output_type": "error",
     "traceback": [
      "\u001B[31m---------------------------------------------------------------------------\u001B[39m",
      "\u001B[31mKeyboardInterrupt\u001B[39m                         Traceback (most recent call last)",
      "\u001B[36mCell\u001B[39m\u001B[36m \u001B[39m\u001B[32mIn[15]\u001B[39m\u001B[32m, line 1\u001B[39m\n\u001B[32m----> \u001B[39m\u001B[32m1\u001B[39m \u001B[43mt\u001B[49m\u001B[43m.\u001B[49m\u001B[43mtravel_position_until_recive\u001B[49m\u001B[43m(\u001B[49m\u001B[32;43m150000\u001B[39;49m\u001B[43m,\u001B[49m\u001B[43m \u001B[49m\u001B[32;43m150000\u001B[39;49m\u001B[43m)\u001B[49m\n",
      "\u001B[36mFile \u001B[39m\u001B[32m~/Documents/git/m321/travel.py:51\u001B[39m, in \u001B[36mtravel_position_until_recive\u001B[39m\u001B[34m(x, y)\u001B[39m\n\u001B[32m     49\u001B[39m travel_position(x, y)\n\u001B[32m     50\u001B[39m \u001B[38;5;28;01mwhile\u001B[39;00m \u001B[38;5;129;01mnot\u001B[39;00m recived_position(x, y):\n\u001B[32m---> \u001B[39m\u001B[32m51\u001B[39m     \u001B[43mtime\u001B[49m\u001B[43m.\u001B[49m\u001B[43msleep\u001B[49m\u001B[43m(\u001B[49m\u001B[32;43m1\u001B[39;49m\u001B[43m)\u001B[49m\n\u001B[32m     52\u001B[39m time.sleep(\u001B[32m.5\u001B[39m)\n\u001B[32m     53\u001B[39m \u001B[38;5;28mprint\u001B[39m(\u001B[33m\"\u001B[39m\u001B[33mcoords erreicht x:\u001B[39m\u001B[33m\"\u001B[39m + \u001B[38;5;28mstr\u001B[39m(x) + \u001B[33m\"\u001B[39m\u001B[33m, y:\u001B[39m\u001B[33m\"\u001B[39m + \u001B[38;5;28mstr\u001B[39m(y))\n",
      "\u001B[31mKeyboardInterrupt\u001B[39m: "
     ]
    }
   ],
   "execution_count": 15
  }
 ],
 "metadata": {
  "kernelspec": {
   "display_name": "Python 3",
   "language": "python",
   "name": "python3"
  },
  "language_info": {
   "codemirror_mode": {
    "name": "ipython",
    "version": 2
   },
   "file_extension": ".py",
   "mimetype": "text/x-python",
   "name": "python",
   "nbconvert_exporter": "python",
   "pygments_lexer": "ipython2",
   "version": "2.7.6"
  }
 },
 "nbformat": 4,
 "nbformat_minor": 5
}
