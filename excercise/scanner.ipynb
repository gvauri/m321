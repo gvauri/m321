{
 "cells": [
  {
   "metadata": {},
   "cell_type": "markdown",
   "source": [
    "installieren\n",
    "\n",
    "apt install rabbitmq-server\n",
    "systemctl enable rabbitmq-server\n",
    "\n",
    "sudo nano /etc/rabbitmq/rabbitmq.conf\n",
    "    listeners.tcp.default = 2014\n",
    "    loopback_users.guest = false\n",
    "\n",
    "systemctl start rabbitmq-server\n",
    "\n",
    "pip install pika"
   ],
   "id": "94e0705ea92baf10"
  },
  {
   "metadata": {},
   "cell_type": "code",
   "source": [
    "import time\n",
    "\n",
    "import travel as t\n",
    "import pika\n",
    "import json\n",
    "import energy_management as em\n",
    "import threading\n",
    "import scanner"
   ],
   "id": "79b1a4063e5a749e",
   "outputs": [],
   "execution_count": null
  },
  {
   "metadata": {},
   "cell_type": "code",
   "source": "t.travel_position_until_recive(25300, 25200)",
   "id": "856d37ab6a08cc1b",
   "outputs": [],
   "execution_count": null
  },
  {
   "cell_type": "code",
   "id": "initial_id",
   "metadata": {
    "collapsed": true
   },
   "source": [
    "connection = pika.BlockingConnection(pika.ConnectionParameters(host=\"10.255.255.254\", port=2014))\n",
    "channel = connection.channel()\n",
    "\n",
    "channel.exchange_declare(exchange='scanner/detected_objects', exchange_type='fanout')\n",
    "result = channel.queue_declare(queue='', exclusive=True)\n",
    "queue_name = result.method.queue\n",
    "channel.queue_bind(exchange='scanner/detected_objects', queue=queue_name)\n",
    "\n",
    "for method_frame, properties, body in channel.consume(queue=queue_name, auto_ack=True):\n",
    "    for station in json.loads(body.decode('utf-8')):\n",
    "        if station[\"name\"] == \"Station 20-A\":\n",
    "            print(station)\n",
    "            print(\"travel to: \" + str(station[\"pos\"][\"x\"]), str(station[\"pos\"][\"y\"]))\n",
    "            t.travel_position(station[\"pos\"][\"x\"], station[\"pos\"][\"y\"])"
   ],
   "outputs": [],
   "execution_count": null
  },
  {
   "metadata": {},
   "cell_type": "markdown",
   "source": "# Architect Clony (-108503/-108888)",
   "id": "b2e59db1857c0f43"
  },
  {
   "metadata": {},
   "cell_type": "code",
   "source": "em.fliegen_ein()",
   "id": "4bfb18b2d33b63b6",
   "outputs": [],
   "execution_count": null
  },
  {
   "metadata": {},
   "cell_type": "code",
   "source": "t.travel_position(-80000,-80000)",
   "id": "f40095b766667882",
   "outputs": [],
   "execution_count": null
  },
  {
   "metadata": {},
   "cell_type": "code",
   "source": [
    "def handle_station(station):\n",
    "    global ist_gefunden\n",
    "    print(station)\n",
    "    if station[\"name\"] == \"Architect Colony\":\n",
    "        ist_gefunden = True\n",
    "        print(\"travel to: \" + str(station[\"pos\"][\"x\"]), str(station[\"pos\"][\"y\"]))\n",
    "        t.travel_position(station[\"pos\"][\"x\"], station[\"pos\"][\"y\"])\n",
    "y = -48000\n",
    "ist_gefunden = False\n",
    "threading.Thread(target=scanner.scanner, args=(handle_station,)).start()\n",
    "for i in range(32):\n",
    "    if ist_gefunden:\n",
    "        break\n",
    "    t.travel_position_until_recive(-48000, y)\n",
    "    t.travel_position_until_recive(-112000, y)\n",
    "    y -= 2000"
   ],
   "id": "17f7b48be4bee20e",
   "outputs": [],
   "execution_count": null
  },
  {
   "metadata": {},
   "cell_type": "markdown",
   "source": "# Xyron Vex",
   "id": "ff35760c351958bd"
  },
  {
   "metadata": {},
   "cell_type": "code",
   "source": "t.travel_position(-59964,-70270)",
   "id": "a3ce0aa40c4f9aeb",
   "outputs": [],
   "execution_count": null
  },
  {
   "metadata": {},
   "cell_type": "code",
   "source": [
    "def handle_station(station):\n",
    "    global ist_gefunden\n",
    "    print(station)\n",
    "    if station[\"name\"] == \"Xyron Vex\":\n",
    "        print(\"travel to: \" + str(station[\"pos\"][\"x\"]), str(station[\"pos\"][\"y\"]))\n",
    "        t.travel_position(station[\"pos\"][\"x\"], station[\"pos\"][\"y\"])\n",
    "\n",
    "\n",
    "scanner.scanner(handle_station,)"
   ],
   "id": "c532ffc3f1d34a2b",
   "outputs": [],
   "execution_count": null
  }
 ],
 "metadata": {
  "kernelspec": {
   "display_name": "Python 3",
   "language": "python",
   "name": "python3"
  },
  "language_info": {
   "codemirror_mode": {
    "name": "ipython",
    "version": 2
   },
   "file_extension": ".py",
   "mimetype": "text/x-python",
   "name": "python",
   "nbconvert_exporter": "python",
   "pygments_lexer": "ipython2",
   "version": "2.7.6"
  }
 },
 "nbformat": 4,
 "nbformat_minor": 5
}
