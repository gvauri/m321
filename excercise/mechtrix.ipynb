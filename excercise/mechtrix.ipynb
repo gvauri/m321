{
 "cells": [
  {
   "cell_type": "code",
   "id": "initial_id",
   "metadata": {
    "collapsed": true,
    "ExecuteTime": {
     "end_time": "2025-09-12T12:53:42.174493Z",
     "start_time": "2025-09-12T12:53:42.037544Z"
    }
   },
   "source": "import jump_drive",
   "outputs": [
    {
     "name": "stderr",
     "output_type": "stream",
     "text": [
      "cryptography is not installed, use of crypto disabled\n",
      "cryptography is not installed, use of crypto disabled\n"
     ]
    }
   ],
   "execution_count": 1
  },
  {
   "metadata": {
    "ExecuteTime": {
     "end_time": "2025-09-12T12:55:38.397413Z",
     "start_time": "2025-09-12T12:55:38.331389Z"
    }
   },
   "cell_type": "code",
   "source": "jump_drive.springe_zu(150000, 150000)",
   "id": "4810baad9711a185",
   "outputs": [
    {
     "name": "stdout",
     "output_type": "stream",
     "text": [
      "Verbunden mit Jumpdrive OPC UA Server\n"
     ]
    },
    {
     "ename": "AttributeError",
     "evalue": "'Node' object has no attribute 'call'",
     "output_type": "error",
     "traceback": [
      "\u001B[31m---------------------------------------------------------------------------\u001B[39m",
      "\u001B[31mAttributeError\u001B[39m                            Traceback (most recent call last)",
      "\u001B[36mCell\u001B[39m\u001B[36m \u001B[39m\u001B[32mIn[3]\u001B[39m\u001B[32m, line 1\u001B[39m\n\u001B[32m----> \u001B[39m\u001B[32m1\u001B[39m \u001B[43mjump_drive\u001B[49m\u001B[43m.\u001B[49m\u001B[43mspringe_zu\u001B[49m\u001B[43m(\u001B[49m\u001B[32;43m150000\u001B[39;49m\u001B[43m,\u001B[49m\u001B[43m \u001B[49m\u001B[32;43m150000\u001B[39;49m\u001B[43m)\u001B[49m\n",
      "\u001B[36mFile \u001B[39m\u001B[32m~/Documents/git/m321/jump_drive.py:19\u001B[39m, in \u001B[36mspringe_zu\u001B[39m\u001B[34m(x, y)\u001B[39m\n\u001B[32m     15\u001B[39m jumpdrive_node = client.get_node(\u001B[33m\"\u001B[39m\u001B[33mi=20001\u001B[39m\u001B[33m\"\u001B[39m)\n\u001B[32m     17\u001B[39m jump_to_method = client.get_node(\u001B[33m\"\u001B[39m\u001B[33mi=20002\u001B[39m\u001B[33m\"\u001B[39m)\n\u001B[32m---> \u001B[39m\u001B[32m19\u001B[39m result = \u001B[43mjump_to_method\u001B[49m\u001B[43m.\u001B[49m\u001B[43mcall\u001B[49m(x, y)\n\u001B[32m     20\u001B[39m \u001B[38;5;28mprint\u001B[39m(\u001B[33m\"\u001B[39m\u001B[33mJumpTo-Ergebnis:\u001B[39m\u001B[33m\"\u001B[39m, result)\n\u001B[32m     22\u001B[39m get_charge_method = client.get_node(\u001B[33m\"\u001B[39m\u001B[33mi=20005\u001B[39m\u001B[33m\"\u001B[39m)\n",
      "\u001B[31mAttributeError\u001B[39m: 'Node' object has no attribute 'call'"
     ]
    }
   ],
   "execution_count": 3
  }
 ],
 "metadata": {
  "kernelspec": {
   "display_name": "Python 3",
   "language": "python",
   "name": "python3"
  },
  "language_info": {
   "codemirror_mode": {
    "name": "ipython",
    "version": 2
   },
   "file_extension": ".py",
   "mimetype": "text/x-python",
   "name": "python",
   "nbconvert_exporter": "python",
   "pygments_lexer": "ipython2",
   "version": "2.7.6"
  }
 },
 "nbformat": 4,
 "nbformat_minor": 5
}
