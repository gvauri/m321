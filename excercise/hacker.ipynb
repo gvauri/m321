{
 "cells": [
  {
   "metadata": {},
   "cell_type": "markdown",
   "source": [
    "python -m grpc_tools.protoc \\\n",
    "  -I. \\\n",
    "  --python_out=. \\\n",
    "  --grpc_python_out=. \\\n",
    "  hacking_device.proto"
   ],
   "id": "1a371b0ba470a2c0"
  },
  {
   "cell_type": "code",
   "id": "initial_id",
   "metadata": {
    "collapsed": true,
    "ExecuteTime": {
     "end_time": "2025-09-05T14:06:05.922675Z",
     "start_time": "2025-09-05T14:06:05.829809Z"
    }
   },
   "source": [
    "import grpc\n",
    "import hacking_device_pb2\n",
    "import hacking_device_pb2_grpc\n",
    "\n",
    "channel = grpc.insecure_channel(\"10.255.255.254:2028\")\n",
    "stub = hacking_device_pb2_grpc.HackingDeviceServerStub(channel)\n",
    "\n",
    "request = hacking_device_pb2.Void()\n",
    "response = stub.read_secret_station_data(request)\n",
    "\n",
    "print(\"Geheime Daten empfangen:\")\n",
    "for entry in response.data:\n",
    "    print(\" -\", entry)"
   ],
   "outputs": [
    {
     "name": "stdout",
     "output_type": "stream",
     "text": [
      "Geheime Daten empfangen:\n",
      " - Unser Kontaktmann Zacharias hat uns diese NFTs wieder tipp topp geklont.\n"
     ]
    }
   ],
   "execution_count": 1
  }
 ],
 "metadata": {
  "kernelspec": {
   "display_name": "Python 3",
   "language": "python",
   "name": "python3"
  },
  "language_info": {
   "codemirror_mode": {
    "name": "ipython",
    "version": 2
   },
   "file_extension": ".py",
   "mimetype": "text/x-python",
   "name": "python",
   "nbconvert_exporter": "python",
   "pygments_lexer": "ipython2",
   "version": "2.7.6"
  }
 },
 "nbformat": 4,
 "nbformat_minor": 5
}
