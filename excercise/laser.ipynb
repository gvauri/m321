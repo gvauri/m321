{
 "cells": [
  {
   "metadata": {},
   "cell_type": "markdown",
   "source": [
    "Laser:\n",
    "\n",
    "sudo apt-get update\n",
    "sudo apt-get install ca-certificates curl\n",
    "sudo install -m 0755 -d /etc/apt/keyrings\n",
    "sudo curl -fsSL https://download.docker.com/linux/debian/gpg -o /etc/apt/keyrings/docker.asc\n",
    "sudo chmod a+r /etc/apt/keyrings/docker.asc\n",
    "\n",
    "docker run -p 2015:8080 -e KEYCLOAK_ADMIN=admin \\-e KEYCLOAK_ADMIN_PASSWORD=admin quay.io/keycloak/keycloak:26.0.0 start-dev\n",
    "\n",
    "realm anlege mit namen laser-realm\n",
    "client anlege mit namen laser\n",
    "\n",
    "client authentication auswählen\n",
    "\n",
    "credential -> secret kopieren\n",
    "\n",
    "curl -XPOST http://10.255.255.254:2018/configure_oauth --data '{\"client_secret\": \"acJl7SyOWwyuqlrW9gToUW5EMcJGmKOI\", \"authorize_url\": \"http://10.255.255.254:2015/realms/laser-realm/protocol/openid-connect/auth\", \"token_url\": \t\"http://10.255.255.254:2015/realms/laser-realm/protocol/openid-connect/token\" }'\n",
    "\n",
    "unter clients scopes hinzufügen use_laser\n",
    "\n",
    "dann noch under client laser in tab scopes use_laser hinzufügen\n",
    "\n",
    "redirect uri hinzufügen http://10.255.255.254:2018/callback\n",
    "\n",
    "neuer benutzer erstellen user: techniker, pwd techniker\n",
    "\n",
    "\n",
    "\n",
    "\n"
   ],
   "id": "bd8d63232d94354b"
  },
  {
   "metadata": {
    "ExecuteTime": {
     "end_time": "2025-09-05T07:36:04.560115Z",
     "start_time": "2025-09-05T07:36:04.391701Z"
    }
   },
   "cell_type": "code",
   "source": [
    "import travel as t\n",
    "import cargo as c"
   ],
   "id": "b555aa5ccb6abeea",
   "outputs": [],
   "execution_count": 2
  },
  {
   "metadata": {
    "ExecuteTime": {
     "end_time": "2025-09-05T07:32:00.951590Z",
     "start_time": "2025-09-05T07:32:00.396176Z"
    }
   },
   "cell_type": "code",
   "source": "t.travel_position_until_recive(-10200, 20500)",
   "id": "2b863dce3fbc2f6f",
   "outputs": [
    {
     "name": "stdout",
     "output_type": "stream",
     "text": [
      "coords erreicht x:-10200, y:20500\n"
     ]
    }
   ],
   "execution_count": 19
  },
  {
   "metadata": {
    "jupyter": {
     "is_executing": true
    },
    "ExecuteTime": {
     "start_time": "2025-09-05T07:52:10.909084Z"
    }
   },
   "cell_type": "code",
   "source": [
    "while True:\n",
    "    t.travel_position_and_mine(-10200, 20500)\n",
    "    resources = c.get_cargo_hold().json()[\"hold\"][\"resources\"]\n",
    "    print(resources)\n",
    "    for resource, amount in resources.items():\n",
    "        t.travel_and_sell(what=resource, amount=amount)\n"
   ],
   "id": "ec3253ddce18150b",
   "outputs": [
    {
     "name": "stdout",
     "output_type": "stream",
     "text": [
      "coords erreicht x:-10200, y:20500\n",
      "activate: {'kind': 'success'}\n",
      "{'kind': 'success', 'is_mining': False, 'is_cooling_down': False, 'is_active': True}\n",
      "{'kind': 'success', 'is_mining': False, 'is_cooling_down': False, 'is_active': True}\n",
      "{'kind': 'success', 'is_mining': False, 'is_cooling_down': False, 'is_active': True}\n",
      "{'kind': 'success', 'is_mining': False, 'is_cooling_down': False, 'is_active': True}\n",
      "{'kind': 'success', 'is_mining': False, 'is_cooling_down': False, 'is_active': True}\n",
      "{'kind': 'success', 'is_mining': False, 'is_cooling_down': False, 'is_active': True}\n",
      "{'kind': 'success', 'is_mining': False, 'is_cooling_down': False, 'is_active': True}\n",
      "{'kind': 'success', 'is_mining': False, 'is_cooling_down': False, 'is_active': True}\n",
      "{'kind': 'success', 'is_mining': False, 'is_cooling_down': False, 'is_active': True}\n",
      "{'kind': 'success', 'is_mining': False, 'is_cooling_down': False, 'is_active': True}\n",
      "activate: {'kind': 'success'}\n",
      "{'kind': 'success', 'is_mining': False, 'is_cooling_down': False, 'is_active': True}\n",
      "{'kind': 'success', 'is_mining': True, 'is_cooling_down': False, 'is_active': True}\n",
      "{'kind': 'success', 'is_mining': True, 'is_cooling_down': False, 'is_active': True}\n",
      "{'kind': 'success', 'is_mining': True, 'is_cooling_down': False, 'is_active': True}\n",
      "{'kind': 'success', 'is_mining': True, 'is_cooling_down': False, 'is_active': True}\n",
      "{'kind': 'success', 'is_mining': True, 'is_cooling_down': False, 'is_active': True}\n",
      "{'kind': 'success', 'is_mining': True, 'is_cooling_down': False, 'is_active': True}\n",
      "{'kind': 'success', 'is_mining': True, 'is_cooling_down': False, 'is_active': True}\n",
      "{'kind': 'success', 'is_mining': False, 'is_cooling_down': False, 'is_active': False}\n",
      "cooling down\n"
     ]
    }
   ],
   "execution_count": null
  },
  {
   "metadata": {
    "ExecuteTime": {
     "end_time": "2025-09-05T06:23:42.079598Z",
     "start_time": "2025-09-05T06:23:42.067082Z"
    }
   },
   "cell_type": "code",
   "source": "print(c.get_cargo_hold().json()[\"hold\"][\"resources\"])",
   "id": "f94e7dedfd5dfe42",
   "outputs": [
    {
     "name": "stdout",
     "output_type": "stream",
     "text": [
      "{'GOLD': 4, 'IRON': 0, 'PLATIN': 0, 'STONE': 18, 'URAN': 0, 'IRIDIUM': 0, 'CHRONOTITE': 0, 'NUCLEAR_WASTE': 0, 'FRAGILON': 0, 'MAGNON': 0, 'AETHERIUM': 0}\n"
     ]
    }
   ],
   "execution_count": 6
  },
  {
   "metadata": {},
   "cell_type": "code",
   "outputs": [],
   "execution_count": null,
   "source": "",
   "id": "28ccb20870388c1"
  }
 ],
 "metadata": {
  "kernelspec": {
   "display_name": "Python 3",
   "language": "python",
   "name": "python3"
  },
  "language_info": {
   "codemirror_mode": {
    "name": "ipython",
    "version": 2
   },
   "file_extension": ".py",
   "mimetype": "text/x-python",
   "name": "python",
   "nbconvert_exporter": "python",
   "pygments_lexer": "ipython2",
   "version": "2.7.6"
  }
 },
 "nbformat": 4,
 "nbformat_minor": 5
}
