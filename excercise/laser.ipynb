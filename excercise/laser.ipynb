{
 "cells": [
  {
   "metadata": {},
   "cell_type": "markdown",
   "source": [
    "Laser:\n",
    "\n",
    "sudo apt-get update\n",
    "sudo apt-get install ca-certificates curl\n",
    "sudo install -m 0755 -d /etc/apt/keyrings\n",
    "sudo curl -fsSL https://download.docker.com/linux/debian/gpg -o /etc/apt/keyrings/docker.asc\n",
    "sudo chmod a+r /etc/apt/keyrings/docker.asc\n",
    "\n",
    "## kubernetes\n",
    "kubectl apply -f keycloack.yaml\n",
    "\n",
    "## docker\n",
    "docker run \\\n",
    "  -p 2015:8080 \\\n",
    "  -e KEYCLOAK_ADMIN=admin \\\n",
    "  -e KEYCLOAK_ADMIN_PASSWORD=admin \\\n",
    "  -v keycloak_data:/opt/keycloak/data \\\n",
    "  quay.io/keycloak/keycloak:26.0.0 \\\n",
    "  start-dev\n",
    "\n",
    "\n",
    "realm anlege mit namen laser-realm\n",
    "client anlege mit namen laser\n",
    "\n",
    "client authentication auswählen\n",
    "\n",
    "credential -> secret kopieren\n",
    "\n",
    "curl -XPOST http://10.255.255.254:2018/configure_oauth --data '{\"client_secret\": \"2CA1GheEmDKmGNZlnzkAf5J8jLu1YsgP\", \"authorize_url\": \"http://10.255.255.254:2015/realms/laser-realm/protocol/openid-connect/auth\", \"token_url\": \t\"http://10.255.255.254:2015/realms/laser-realm/protocol/openid-connect/token\" }'\n",
    "\n",
    "unter clients scopes hinzufügen use_laser\n",
    "\n",
    "dann noch unter client laser in tab scopes use_laser hinzufügen\n",
    "\n",
    "redirect uri hinzufügen http://10.255.255.254:2018/callback\n",
    "\n",
    "neuer benutzer erstellen user: techniker, pwd techniker\n",
    "\n",
    "rolle erstelln technicker und benutzer hinzufügen\n",
    "\n",
    "\n"
   ],
   "id": "bd8d63232d94354b"
  },
  {
   "metadata": {},
   "cell_type": "code",
   "source": [
    "import cargo\n",
    "import travel as t\n",
    "import time\n",
    "import mining\n",
    "import cargo as c\n",
    "import communication\n",
    "import energy_management as em\n",
    "import jump_drive"
   ],
   "id": "b555aa5ccb6abeea",
   "outputs": [],
   "execution_count": null
  },
  {
   "metadata": {},
   "cell_type": "code",
   "source": "t.travel_position_until_recive(-10200, 20500)",
   "id": "2b863dce3fbc2f6f",
   "outputs": [],
   "execution_count": null
  },
  {
   "metadata": {},
   "cell_type": "code",
   "source": [
    "# while True:\n",
    "#     t.travel_position_and_mine(-10200, 20500)\n",
    "#     t.travell_and_sell_all()\n"
   ],
   "id": "ec3253ddce18150b",
   "outputs": [],
   "execution_count": null
  },
  {
   "metadata": {},
   "cell_type": "code",
   "source": "print(c.get_cargo_hold().json()[\"hold\"][\"resources\"])",
   "id": "f94e7dedfd5dfe42",
   "outputs": [],
   "execution_count": null
  },
  {
   "metadata": {},
   "cell_type": "code",
   "source": "t.travell_and_sell_all()\n",
   "id": "52f5a79b7f696912",
   "outputs": [],
   "execution_count": null
  },
  {
   "metadata": {},
   "cell_type": "markdown",
   "source": "# Platin minen",
   "id": "efa2ac9717a1da46"
  },
  {
   "metadata": {},
   "cell_type": "code",
   "source": [
    "t.travel_position_and_mine(49900, 76828)\n",
    "t.travell_and_sell_all()"
   ],
   "id": "d586eec03e1b5281",
   "outputs": [],
   "execution_count": null
  },
  {
   "metadata": {},
   "cell_type": "code",
   "source": "t.travel_position_until_recive(-60000, 9000)",
   "id": "5958bd041e54523d",
   "outputs": [],
   "execution_count": null
  },
  {
   "metadata": {},
   "cell_type": "markdown",
   "source": "# Chronotit",
   "id": "4fb9ded405820b1"
  },
  {
   "metadata": {},
   "cell_type": "code",
   "source": [
    "# while True:\n",
    "#     t.travel_position_and_mine(-44600, 45728, matter_stabilizer=1)\n",
    "#     t.travell_and_sell_all()\n",
    "#     t.travell_position_and_sell_all(-96486, -80625, \"Nuku Station\")\n"
   ],
   "id": "318ee322a712521e",
   "outputs": [],
   "execution_count": null
  },
  {
   "metadata": {},
   "cell_type": "code",
   "source": "t.travel_position_until_recive(6692, 6794)",
   "id": "4509242c64dd28f",
   "outputs": [],
   "execution_count": null
  },
  {
   "metadata": {},
   "cell_type": "code",
   "source": "communication.sell(\"Illume Colony\", \"NUCLEAR_WASTE\", 10).json()",
   "id": "141199b2609f7784",
   "outputs": [],
   "execution_count": null
  },
  {
   "metadata": {},
   "cell_type": "markdown",
   "source": "# Nuku",
   "id": "b1c68daa505cd13a"
  },
  {
   "metadata": {},
   "cell_type": "code",
   "source": "t.travell_position_and_sell_all(-96486, -80625, \"Nuku Station\")",
   "id": "8f745e255f8c69e7",
   "outputs": [],
   "execution_count": null
  },
  {
   "metadata": {},
   "cell_type": "code",
   "source": [
    "# while True:\n",
    "#     t.travel_position_and_mine(-95375, -90773, laser_amplifier=1, laser=0.5)\n",
    "#     t.travell_position_and_sell_all(-96486, -80625, \"Nuku Station\")\n",
    "#     t.travell_and_sell_all()"
   ],
   "id": "b5637accbb6ed1a5",
   "outputs": [],
   "execution_count": null
  },
  {
   "metadata": {},
   "cell_type": "markdown",
   "source": [
    "# 20 b\n",
    "platin für 999 verkaufen"
   ],
   "id": "b84c8ce63733eec1"
  },
  {
   "metadata": {},
   "cell_type": "code",
   "source": "t.travel_position_until_recive(12641, 5554)\n",
   "id": "9549bfc28d6b433b",
   "outputs": [],
   "execution_count": null
  },
  {
   "metadata": {},
   "cell_type": "code",
   "source": "t.travell_and_sell_all()\n",
   "id": "ec1249b628218ede",
   "outputs": [],
   "execution_count": null
  },
  {
   "metadata": {},
   "cell_type": "code",
   "source": [
    "em.mining_ein(laser=0.7)\n",
    "# while True:\n",
    "#     mining.activate()\n",
    "#     time.sleep(8)\n"
   ],
   "id": "62271e3a196481cf",
   "outputs": [],
   "execution_count": null
  },
  {
   "metadata": {},
   "cell_type": "code",
   "source": "em.fliegen_ein()",
   "id": "1f91f336388cdcbe",
   "outputs": [],
   "execution_count": null
  },
  {
   "metadata": {},
   "cell_type": "markdown",
   "source": "# Fragilon noch nicht funktioniert",
   "id": "bc0884368cb8679b"
  },
  {
   "metadata": {},
   "cell_type": "code",
   "source": "t.travel_position_and_mine(-53961, -44627)",
   "id": "1f0f61fcab95e8e8",
   "outputs": [],
   "execution_count": null
  },
  {
   "metadata": {},
   "cell_type": "code",
   "source": [
    "t.travel_station(\"stop\")\n",
    "jump_drive.springe_zu(0,0)"
   ],
   "id": "2a4d106d461a9ae9",
   "outputs": [],
   "execution_count": null
  },
  {
   "metadata": {},
   "cell_type": "markdown",
   "source": "# Magnon",
   "id": "3f908989a6219283"
  },
  {
   "metadata": {},
   "cell_type": "code",
   "source": "t.travel_position_and_mine(-51568,-52709, shield=1)",
   "id": "212b510a7cefe1c8",
   "outputs": [],
   "execution_count": null
  },
  {
   "metadata": {},
   "cell_type": "code",
   "source": "",
   "id": "45cdd35d255babf2",
   "outputs": [],
   "execution_count": null
  }
 ],
 "metadata": {
  "kernelspec": {
   "display_name": "Python 3",
   "language": "python",
   "name": "python3"
  },
  "language_info": {
   "codemirror_mode": {
    "name": "ipython",
    "version": 2
   },
   "file_extension": ".py",
   "mimetype": "text/x-python",
   "name": "python",
   "nbconvert_exporter": "python",
   "pygments_lexer": "ipython2",
   "version": "2.7.6"
  }
 },
 "nbformat": 4,
 "nbformat_minor": 5
}
