{
 "cells": [
  {
   "metadata": {},
   "cell_type": "markdown",
   "source": [
    "Laser:\n",
    "\n",
    "sudo apt-get update\n",
    "sudo apt-get install ca-certificates curl\n",
    "sudo install -m 0755 -d /etc/apt/keyrings\n",
    "sudo curl -fsSL https://download.docker.com/linux/debian/gpg -o /etc/apt/keyrings/docker.asc\n",
    "sudo chmod a+r /etc/apt/keyrings/docker.asc\n",
    "\n",
    "docker run -p 2015:8080 -e KEYCLOAK_ADMIN=admin \\-e KEYCLOAK_ADMIN_PASSWORD=admin quay.io/keycloak/keycloak:26.0.0 start-dev\n",
    "\n",
    "realm anlege mit namen laser-realm\n",
    "client anlege mit namen laser\n",
    "\n",
    "client authentication auswählen\n",
    "\n",
    "credential -> secret kopieren\n",
    "\n",
    "curl -XPOST http://10.255.255.254:2018/configure_oauth --data '{\"client_secret\": \"acJl7SyOWwyuqlrW9gToUW5EMcJGmKOI\", \"authorize_url\": \"http://10.255.255.254:2015/realms/laser-realm/protocol/openid-connect/auth\", \"token_url\": \t\"http://10.255.255.254:2015/realms/laser-realm/protocol/openid-connect/token\" }'\n",
    "\n",
    "unter clients scopes hinzufügen use_laser\n",
    "\n",
    "dann noch under client laser in tab scopes use_laser hinzufügen\n",
    "\n",
    "redirect uri hinzufügen http://10.255.255.254:2018/callback\n",
    "\n",
    "neuer benutzer erstellen user: techniker, pwd techniker\n",
    "\n",
    "\n",
    "\n",
    "\n"
   ],
   "id": "bd8d63232d94354b"
  },
  {
   "metadata": {
    "ExecuteTime": {
     "end_time": "2025-09-05T07:32:55.463592Z",
     "start_time": "2025-09-05T07:32:55.429850Z"
    }
   },
   "cell_type": "code",
   "source": [
    "import travel as t\n",
    "import cargo as c"
   ],
   "id": "b555aa5ccb6abeea",
   "outputs": [],
   "execution_count": 21
  },
  {
   "metadata": {
    "ExecuteTime": {
     "end_time": "2025-09-05T07:32:00.951590Z",
     "start_time": "2025-09-05T07:32:00.396176Z"
    }
   },
   "cell_type": "code",
   "source": "t.travel_position_until_recive(-10200, 20500)",
   "id": "2b863dce3fbc2f6f",
   "outputs": [
    {
     "name": "stdout",
     "output_type": "stream",
     "text": [
      "coords erreicht x:-10200, y:20500\n"
     ]
    }
   ],
   "execution_count": 19
  },
  {
   "metadata": {
    "ExecuteTime": {
     "end_time": "2025-09-05T07:33:06.762714Z",
     "start_time": "2025-09-05T07:33:01.158815Z"
    }
   },
   "cell_type": "code",
   "source": [
    "while True:\n",
    "    t.travel_position_and_mine(-10200, 20500)\n",
    "    resources = c.get_cargo_hold().json()[\"hold\"][\"resources\"]\n",
    "    print(resources)\n",
    "    for resource, amount in resources:\n",
    "        t.travel_and_sell(what=resource, amount=amount)\n"
   ],
   "id": "ec3253ddce18150b",
   "outputs": [
    {
     "name": "stdout",
     "output_type": "stream",
     "text": [
      "coords erreicht x:-10200, y:20500\n"
     ]
    },
    {
     "ename": "IndexError",
     "evalue": "list index out of range",
     "output_type": "error",
     "traceback": [
      "\u001B[31m---------------------------------------------------------------------------\u001B[39m",
      "\u001B[31mIndexError\u001B[39m                                Traceback (most recent call last)",
      "\u001B[36mCell\u001B[39m\u001B[36m \u001B[39m\u001B[32mIn[22]\u001B[39m\u001B[32m, line 2\u001B[39m\n\u001B[32m      1\u001B[39m \u001B[38;5;28;01mwhile\u001B[39;00m \u001B[38;5;28;01mTrue\u001B[39;00m:\n\u001B[32m----> \u001B[39m\u001B[32m2\u001B[39m     \u001B[43mt\u001B[49m\u001B[43m.\u001B[49m\u001B[43mtravel_position_and_mine\u001B[49m\u001B[43m(\u001B[49m\u001B[43m-\u001B[49m\u001B[32;43m10200\u001B[39;49m\u001B[43m,\u001B[49m\u001B[43m \u001B[49m\u001B[32;43m20500\u001B[39;49m\u001B[43m)\u001B[49m\n\u001B[32m      3\u001B[39m     resources = c.get_cargo_hold().json()[\u001B[33m\"\u001B[39m\u001B[33mhold\u001B[39m\u001B[33m\"\u001B[39m][\u001B[33m\"\u001B[39m\u001B[33mresources\u001B[39m\u001B[33m\"\u001B[39m]\n\u001B[32m      4\u001B[39m     \u001B[38;5;28mprint\u001B[39m(resources)\n",
      "\u001B[36mFile \u001B[39m\u001B[32m~/Documents/git/m321/travel.py:58\u001B[39m, in \u001B[36mtravel_position_and_mine\u001B[39m\u001B[34m(x, y)\u001B[39m\n\u001B[32m     57\u001B[39m \u001B[38;5;28;01mdef\u001B[39;00m\u001B[38;5;250m \u001B[39m\u001B[34mtravel_position_and_mine\u001B[39m(x, y):\n\u001B[32m---> \u001B[39m\u001B[32m58\u001B[39m     \u001B[43mtravel_position_and_buy\u001B[49m\u001B[43m(\u001B[49m\u001B[43mx\u001B[49m\u001B[43m,\u001B[49m\u001B[43m \u001B[49m\u001B[43my\u001B[49m\u001B[43m)\u001B[49m\n\u001B[32m     59\u001B[39m     mining.mine()\n",
      "\u001B[36mFile \u001B[39m\u001B[32m~/Documents/git/m321/travel.py:31\u001B[39m, in \u001B[36mtravel_position_and_buy\u001B[39m\u001B[34m(x, y, what, amount)\u001B[39m\n\u001B[32m     29\u001B[39m travel_position_until_recive(x, y)\n\u001B[32m     30\u001B[39m time.sleep(\u001B[32m5\u001B[39m)\n\u001B[32m---> \u001B[39m\u001B[32m31\u001B[39m c.buy(\u001B[38;5;28;43mlist\u001B[39;49m\u001B[43m(\u001B[49m\u001B[43mc\u001B[49m\u001B[43m.\u001B[49m\u001B[43mget_near_station\u001B[49m\u001B[43m(\u001B[49m\u001B[43m)\u001B[49m\u001B[43m.\u001B[49m\u001B[43mjson\u001B[49m\u001B[43m(\u001B[49m\u001B[43m)\u001B[49m\u001B[43m[\u001B[49m\u001B[33;43m\"\u001B[39;49m\u001B[33;43mstations\u001B[39;49m\u001B[33;43m\"\u001B[39;49m\u001B[43m]\u001B[49m\u001B[43m)\u001B[49m\u001B[43m[\u001B[49m\u001B[32;43m0\u001B[39;49m\u001B[43m]\u001B[49m, what, amount)\n",
      "\u001B[31mIndexError\u001B[39m: list index out of range"
     ]
    }
   ],
   "execution_count": 22
  },
  {
   "metadata": {
    "ExecuteTime": {
     "end_time": "2025-09-05T06:23:42.079598Z",
     "start_time": "2025-09-05T06:23:42.067082Z"
    }
   },
   "cell_type": "code",
   "source": "print(c.get_cargo_hold().json()[\"hold\"][\"resources\"])",
   "id": "f94e7dedfd5dfe42",
   "outputs": [
    {
     "name": "stdout",
     "output_type": "stream",
     "text": [
      "{'GOLD': 4, 'IRON': 0, 'PLATIN': 0, 'STONE': 18, 'URAN': 0, 'IRIDIUM': 0, 'CHRONOTITE': 0, 'NUCLEAR_WASTE': 0, 'FRAGILON': 0, 'MAGNON': 0, 'AETHERIUM': 0}\n"
     ]
    }
   ],
   "execution_count": 6
  },
  {
   "metadata": {},
   "cell_type": "code",
   "outputs": [],
   "execution_count": null,
   "source": "",
   "id": "28ccb20870388c1"
  }
 ],
 "metadata": {
  "kernelspec": {
   "display_name": "Python 3",
   "language": "python",
   "name": "python3"
  },
  "language_info": {
   "codemirror_mode": {
    "name": "ipython",
    "version": 2
   },
   "file_extension": ".py",
   "mimetype": "text/x-python",
   "name": "python",
   "nbconvert_exporter": "python",
   "pygments_lexer": "ipython2",
   "version": "2.7.6"
  }
 },
 "nbformat": 4,
 "nbformat_minor": 5
}
